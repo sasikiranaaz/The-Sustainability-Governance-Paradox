{
 "cells": [
  {
   "cell_type": "code",
   "execution_count": null,
   "metadata": {
    "colab": {
     "base_uri": "https://localhost:8080/"
    },
    "id": "uOrHg20VXR0A",
    "outputId": "939f673f-b64b-4920-e601-5ae14ca73284"
   },
   "outputs": [
    {
     "name": "stdout",
     "output_type": "stream",
     "text": [
      "      period  nodes  edges  average_degree  average_weighted_degree\n",
      "0   20060101     42     71            3.38                    27.05\n",
      "1   20060201     45     65            2.89                    22.31\n",
      "2   20060301     45     70            3.11                    24.89\n",
      "3   20060401     40     61            3.05                    24.40\n",
      "4   20060501     43     70            3.26                    25.63\n",
      "5   20060601     45     66            2.93                    21.47\n",
      "6   20060701     48     67            2.79                    21.96\n",
      "7   20060801     43     58            2.70                    21.16\n",
      "8   20060901     41     62            3.02                    24.20\n",
      "9   20061001     44     71            3.23                    25.82\n",
      "10  20061101     49     74            3.02                    23.80\n",
      "11  20061201     49     68            2.78                    22.20\n"
     ]
    }
   ],
   "source": [
    "import pandas as pd\n",
    "import networkx as nx\n",
    "\n",
    "# Load the Excel file\n",
    "file_path = \"/content/coalm 06.xlsx\"\n",
    "df = pd.read_excel(file_path)\n",
    "\n",
    "# Ensure 'period' column exists and is in string format\n",
    "df['period'] = df['period'].astype(str)\n",
    "\n",
    "# Check for expected columns\n",
    "expected_columns = ['period', 'reporter', 'partner', 'qty']\n",
    "df.columns = [col.lower() for col in df.columns]  # normalize column names to lowercase\n",
    "\n",
    "# Attempt to auto-detect relevant columns if names differ\n",
    "period_col = next((col for col in df.columns if 'period' in col), None)\n",
    "source_col = next((col for col in df.columns if 'reporter' in col), None)\n",
    "target_col = next((col for col in df.columns if 'partner' in col), None)\n",
    "weight_col = next((col for col in df.columns if 'qty' in col or 'quantity' in col or 'weight' in col), None)\n",
    "\n",
    "# Store results\n",
    "results = []\n",
    "\n",
    "# Analyze each month\n",
    "for period in sorted(df[period_col].unique()):\n",
    "    df_month = df[df[period_col] == period]\n",
    "\n",
    "    # Create a directed graph with weights\n",
    "    G = nx.DiGraph()\n",
    "    edges = list(zip(df_month[source_col], df_month[target_col], df_month[weight_col]))\n",
    "    G.add_weighted_edges_from(edges)\n",
    "\n",
    "    num_nodes = G.number_of_nodes()\n",
    "    num_edges = G.number_of_edges()\n",
    "    avg_degree = sum(dict(G.degree()).values()) / float(num_nodes) if num_nodes > 0 else 0\n",
    "    avg_weighted_degree = sum(dict(G.degree(weight='weight')).values()) / float(num_nodes) if num_nodes > 0 else 0\n",
    "\n",
    "    results.append({\n",
    "        'period': period,\n",
    "        'nodes': num_nodes,\n",
    "        'edges': num_edges,\n",
    "        'average_degree': round(avg_degree, 2),\n",
    "        'average_weighted_degree': round(avg_weighted_degree, 2)\n",
    "    })\n",
    "\n",
    "# Convert results to DataFrame\n",
    "results_df = pd.DataFrame(results)\n",
    "\n",
    "print(results_df)\n"
   ]
  },
  {
   "cell_type": "code",
   "execution_count": null,
   "metadata": {
    "colab": {
     "base_uri": "https://localhost:8080/"
    },
    "id": "6Fzls-lwYhgs",
    "outputId": "1b141319-664d-4a7d-a8e2-8564f12053b4"
   },
   "outputs": [
    {
     "data": {
      "application/javascript": [
       "\n",
       "    async function download(id, filename, size) {\n",
       "      if (!google.colab.kernel.accessAllowed) {\n",
       "        return;\n",
       "      }\n",
       "      const div = document.createElement('div');\n",
       "      const label = document.createElement('label');\n",
       "      label.textContent = `Downloading \"${filename}\": `;\n",
       "      div.appendChild(label);\n",
       "      const progress = document.createElement('progress');\n",
       "      progress.max = size;\n",
       "      div.appendChild(progress);\n",
       "      document.body.appendChild(div);\n",
       "\n",
       "      const buffers = [];\n",
       "      let downloaded = 0;\n",
       "\n",
       "      const channel = await google.colab.kernel.comms.open(id);\n",
       "      // Send a message to notify the kernel that we're ready.\n",
       "      channel.send({})\n",
       "\n",
       "      for await (const message of channel.messages) {\n",
       "        // Send a message to notify the kernel that we're ready.\n",
       "        channel.send({})\n",
       "        if (message.buffers) {\n",
       "          for (const buffer of message.buffers) {\n",
       "            buffers.push(buffer);\n",
       "            downloaded += buffer.byteLength;\n",
       "            progress.value = downloaded;\n",
       "          }\n",
       "        }\n",
       "      }\n",
       "      const blob = new Blob(buffers, {type: 'application/binary'});\n",
       "      const a = document.createElement('a');\n",
       "      a.href = window.URL.createObjectURL(blob);\n",
       "      a.download = filename;\n",
       "      div.appendChild(a);\n",
       "      a.click();\n",
       "      div.remove();\n",
       "    }\n",
       "  "
      ],
      "text/plain": [
       "<IPython.core.display.Javascript object>"
      ]
     },
     "metadata": {},
     "output_type": "display_data"
    },
    {
     "data": {
      "application/javascript": [
       "download(\"download_9a4c9ae7-66b3-4daa-a6c5-42b57baf1787\", \"network_prop_coalm 06.xlsx\", 5348)"
      ],
      "text/plain": [
       "<IPython.core.display.Javascript object>"
      ]
     },
     "metadata": {},
     "output_type": "display_data"
    }
   ],
   "source": [
    "# Convert results to DataFrame\n",
    "results_df = pd.DataFrame(results)\n",
    "\n",
    "# ✅ Save to Excel correctly\n",
    "results_df.to_excel('network_prop_coalm 06.xlsx', index=False)\n",
    "\n",
    "# ✅ For Google Colab, allow download\n",
    "from google.colab import files\n",
    "files.download('network_prop_coalm 06.xlsx')"
   ]
  }
 ],
 "metadata": {
  "colab": {
   "provenance": []
  },
  "kernelspec": {
   "display_name": "Python 3",
   "name": "python3"
  },
  "language_info": {
   "name": "python"
  }
 },
 "nbformat": 4,
 "nbformat_minor": 0
}
